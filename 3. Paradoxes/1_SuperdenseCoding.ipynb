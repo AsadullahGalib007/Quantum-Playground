{
 "cells": [
  {
   "cell_type": "markdown",
   "metadata": {},
   "source": [
    "<style>\n",
    "li, p{\n",
    "  line-height: 2;\n",
    "}\n",
    "</style>\n",
    "\n",
    "> <h1>Superdense Coding</h1>\n",
    "<br>\n",
    "\n",
    "<div>\n",
    "<img src=\"/workspaces/Quantum-Playground/Figures/superdenseCoding.drawio.png\">\n",
    "</div>\n",
    "<br>\n",
    "\n",
    "> <h2>How it works?</h2>\n",
    "> <p>It is an algorithm to send 2 bits of information with the help of quantum entanglement. Assume in a 2 qubit system, after creating a Bell state, Alice and Bob takes each one of the qubit and moves to the other universes. Now Alice wants to send 2 classical bit of information to Bob. So she encodes her qubit. On the other hand, to receive the information Bob has to decode (un-entangle) his qubit. And this will happen instantaniously. We have to keep in mind that Bob will never know when Alice will send him information. Moreover, Alice will never send him a text saying,\"Hi!, I've send you 2 bit of information, please decode your part.\" Instead, she could just text him the information.</p>\n",
    "<br>\n",
    "\n",
    "> Steps:\n",
    "<p>\n",
    "  <ol>\n",
    "    <li>Initially, ψ<sub>1</sub> = |00></li>\n",
    "    <li>Initialization: Maximally entangled stage of two qubits (Bell states, or EPR pair) takes place. Each party has the half of the entangled pair. <span style=\"color:red\">Alice</span> posses the first part, and <span style=\"color:green\">Bob</span> has the second.\n",
    "    ψ<sub>2</sub> = 1/√2(|<span style=\"color:red\">0</span><span style=\"color:green\">0</span>> + |<span style=\"color:red\">1</span><span style=\"color:green\">1</span>>) = φ<sup>+</sup>\n",
    "    </li>\n",
    "    <li>Alice encodes her part based on which 2-bits pair she wants to send. Which basically converts the current Bell state to another Bell state.<br>\n",
    "    <ul>\n",
    "      <li><b>00</b>: <br>ψ<sub>3</sub> = Idψ<sub>2</sub><br>\n",
    "                                = ψ<sub>2</sub> <br>\n",
    "                                = φ<sup>+</sup>\n",
    "      </li>\n",
    "      <li><b>01</b>: <br>ψ<sub>3</sub> = Xψ<sub>2</sub><br>\n",
    "                                = 1/√2(|10> + |01>)<br>\n",
    "                                = ψ<sup>+</sup>\n",
    "      </li>\n",
    "      <li><b>10</b>: <br>ψ<sub>3</sub> = Zψ<sub>2</sub><br>\n",
    "                                = 1/√2(|00> - |11>)<br>\n",
    "                                = φ<sup>-</sup>\n",
    "      </li>\n",
    "      <li><b>11</b>: <br>ψ<sub>3</sub> = XZψ<sub>2</sub><br>\n",
    "                                = 1/√2(|10> - |01>)<br>\n",
    "                                = ψ<sup>+</sup>\n",
    "      </li>\n",
    "    </ul>\n",
    "    So we can see that encoding φ<sup>+</sup> will convert to other Bell states, φ<sup>-</sup>, ψ<sup>+</sup>, and ψ<sup>-</sup>.\n",
    "    </li>\n",
    "    <li><b>Bob's Decoding</b>: In this step, Bob decodes or un-entangle his qubit to retrieve information. He performs Hadamard followed by cnot. ψ<sub>4</sub> = H (cx ψ<sub>3</sub>) = |00> or |01> or |10> or |11></li>\n",
    "  </ol>\n",
    "</p>"
   ]
  },
  {
   "cell_type": "code",
   "execution_count": null,
   "metadata": {},
   "outputs": [],
   "source": []
  }
 ],
 "metadata": {
  "language_info": {
   "name": "python"
  }
 },
 "nbformat": 4,
 "nbformat_minor": 2
}
